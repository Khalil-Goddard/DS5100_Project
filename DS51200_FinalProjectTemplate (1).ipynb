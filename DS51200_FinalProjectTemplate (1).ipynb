{
 "cells": [
  {
   "cell_type": "markdown",
   "id": "45762487-d33f-486d-8e38-2cdea04e3528",
   "metadata": {},
   "source": [
    "# Final Project Report\n",
    "\n",
    "* Class: DS 5100\n",
    "* Student Name: Khalil Goddard\n",
    "* Student Net ID: mfu2as\n",
    "* This URL: a URL to the notebook source of this document"
   ]
  },
  {
   "cell_type": "markdown",
   "id": "acf756c1-ecaa-41dc-b6ca-d566eb94560b",
   "metadata": {},
   "source": [
    "# Instructions\n",
    "\n",
    "Follow the instructions in the Final Project isntructions notebook and put evidence of your work in this notebook.\n",
    "\n",
    "Total points for each subsection under **Deliverables** and **Scenarios** are given in parentheses.\n",
    "\n",
    "Breakdowns of points within subsections are specified within subsection instructions as bulleted lists.\n",
    "\n",
    "This project is worth **50 points**."
   ]
  },
  {
   "cell_type": "markdown",
   "id": "89dc7a32-f682-4402-8c1e-b6ccdb3e0e39",
   "metadata": {},
   "source": [
    "# Deliverables"
   ]
  },
  {
   "cell_type": "markdown",
   "id": "d32cb273-9a40-4909-a7ce-51f6e4958d3c",
   "metadata": {},
   "source": [
    "## The Monte Carlo Module (10)\n",
    "\n",
    "- URL included, appropriately named (1).\n",
    "- Includes all three specified classes (3).\n",
    "- Includes at least all 12 specified methods (6; .5 each)."
   ]
  },
  {
   "cell_type": "markdown",
   "id": "f5f3b070-de9e-4de9-bfae-8974d184aa28",
   "metadata": {},
   "source": [
    "Put the URL to your GitHub repo here.\n",
    "\n",
    "Repo URL:"
   ]
  },
  {
   "cell_type": "markdown",
   "id": "162370fb-3729-4c85-b040-8c25b2c966d2",
   "metadata": {},
   "source": [
    "Paste a copyy of your module here.\n",
    "\n",
    "NOTE: Paste as text, not as code. Use triple backticks to wrap your code blocks."
   ]
  },
  {
   "cell_type": "markdown",
   "id": "7a7c53cc-399e-4f71-9590-12f16d6ecce0",
   "metadata": {},
   "source": [
    "```\n",
    "import pandas as pd\n",
    "import numpy as np\n",
    "\n",
    "class Dice: \n",
    "    \n",
    "    '''\n",
    "    This is the Dice Class. \n",
    "    A die has N sides, or “faces”, and W weights, and can be rolled to select a face.\n",
    "    For example, a “die” with  𝑁=2 is a coin, and a one with  𝑁=6 is a standard die.\n",
    "    Normally, dice and coins are “fair,” meaning that the each side has an equal weight. \n",
    "    An unfair die is one where the weights are unequal.\n",
    "    Each side contains a unique symbol. Symbols may be all alphabetic or all numeric.\n",
    "    𝑊 defaults to  1.0 for each face but can be changed after the object is created.\n",
    "    The weights are just positive numbers (integers or floats, including  0), not a \n",
    "    normalized probability distribution.\n",
    "    The die has one behavior, which is to be rolled one or more times.\n",
    "    \n",
    "    PURPOSE: Given a list of values, compare each value against a threshold\n",
    "    \n",
    "    INPUTS\n",
    "    faces    numpy array of values to represent the N faces of a die\n",
    "    \n",
    "    '''\n",
    "    \n",
    "    def __init__(self, faces: np.array):\n",
    "        \n",
    "        \n",
    "        if type(faces) != np.ndarray:\n",
    "            raise TypeError(f\"'faces' must be of type numpy array, got {type(faces).__name__}\")\n",
    "        \n",
    "        if faces.dtype.kind not in ('U', 'S') and np.issubdtype(faces.dtype, np.number) == False:\n",
    "                raise ValueError(\"Values in 'faces' must be of type string or int\")\n",
    "                \n",
    "        if len(np.unique(faces)) != len(faces):\n",
    "            raise ValueError(\"Values in 'faces' must be distinct\")\n",
    "\n",
    "     \n",
    "        \n",
    "        weights  = np.ones(len(faces))\n",
    "        self.weights = weights \n",
    "        self.faces = faces\n",
    "        \n",
    "        self.dice_info = pd.DataFrame(weights, index=faces, columns=['Weights'])\n",
    "\n",
    "        \n",
    "        \n",
    "        \n",
    "    def change_weight(self, face, new_weight):\n",
    "        \n",
    "        if face not in self.faces:\n",
    "            raise IndexError(f'Passed Face Value, \"{face}\" not in die array.')\n",
    "        else:\n",
    "            try:\n",
    "                float(new_weight)\n",
    "                index = np.where(self.faces == face)\n",
    "                self.weights[index] = float(new_weight)\n",
    "            \n",
    "            except:\n",
    "                raise TypeError(f\"'new_weight' must be numeric, got {type(new_weight).__name__}\")\n",
    "                \n",
    "                \n",
    "                \n",
    "                \n",
    "    def roll_dice(self, rolls = 1):\n",
    "\n",
    "        return list(pd.DataFrame(self.dice_info.index).sample(n=rolls, replace=True, weights = self.weights)[0])\n",
    "        \n",
    "                \n",
    "            \n",
    "        \n",
    "        \n",
    "        \n",
    "    def current_state(self):\n",
    "        \n",
    "        rslt = self.dice_info.copy()\n",
    "        return rslt\n",
    "        \n",
    "        \n",
    "        \n",
    "        \n",
    "        \n",
    "class Game: \n",
    "    \n",
    "\n",
    "    \n",
    "    '''\n",
    "    A game consists of rolling of one or more similar dice (Die objects) one or more times.\n",
    "\n",
    "    By similar dice, we mean that each die in a given game has the same number of sides and associated faces, but \n",
    "    each die object may have its own weights.\n",
    "    \n",
    "    Each game is initialized with a Python list that contains one or more dice.\n",
    "    \n",
    "    Game objects have a behavior to play a game, i.e. to roll all of the dice a given number of times.\n",
    "    \n",
    "    Game objects only keep the results of their most recent play.\n",
    "    \n",
    "    PURPOSE: Given a list of values, compare each value against a threshold\n",
    "    \n",
    "    INPUTS\n",
    "    faces    numpy array of values to represent the N faces of a die\n",
    "    \n",
    "    '''\n",
    "    \n",
    "    \n",
    "    \n",
    "    \n",
    "    def __init__(self, die: list ):\n",
    "        \n",
    "        self.die = die\n",
    "        \n",
    "        \n",
    "        \n",
    "    def play(self, num_rolls: int):\n",
    "        \n",
    "        plays = pd.DataFrame()\n",
    "        plays.index.name = \"Roll Number\"\n",
    "        index = 0\n",
    "        for dice in self.die:\n",
    "            plays[index] = dice.roll_dice(num_rolls)\n",
    "            index += 1\n",
    "            \n",
    "        self.plays = plays\n",
    "    \n",
    "    \n",
    "    \n",
    "    \n",
    "    def show_results(self, form = \"wide\"):\n",
    "        \n",
    "        if form != \"wide\" and form != \"narrow\":\n",
    "            raise ValueError(f\"Form must be 'narrow' or 'wide', got '{form}'\")\n",
    "            \n",
    "        elif form == \"wide\":\n",
    "            return self.plays.copy()\n",
    "        \n",
    "        else:\n",
    "            rslt = self.plays.copy()\n",
    "            \n",
    "            narrow_df = rslt.reset_index().melt(id_vars='Roll Number'\n",
    "                                                ,var_name='Dice Number'\n",
    "                                                ,value_name='FaceRolled')\n",
    "            \n",
    "            narrow_df.set_index(['Roll Number', 'Dice Number'], inplace=True)\n",
    "    \n",
    "        \n",
    "            return narrow_df\n",
    "        \n",
    "        \n",
    "       \n",
    "    \n",
    "    \n",
    "    \n",
    "class Analyzer:\n",
    "    \n",
    "    \n",
    "    \n",
    "    \n",
    "    def __init__(self, game):\n",
    "        \n",
    "        \n",
    "        if not isinstance(game, Game):\n",
    "            raise ValueError(f\"Object passed must be a Game object, got {type(game).__name__}\")\n",
    "        else:\n",
    "            self.game = game\n",
    "                             \n",
    "                \n",
    "                \n",
    "    def jackpot(self):\n",
    "        \n",
    "        jackpots = 0 \n",
    "             \n",
    "        for i in range(len(self.game.show_results())):\n",
    "            if len(self.game.show_results().iloc[i].unique()) == 1:\n",
    "                jackpots += 1\n",
    "                    \n",
    "        return jackpots\n",
    "                     \n",
    "        \n",
    "        \n",
    "    \n",
    "    def face_counts(self):\n",
    "       \n",
    "        faces = []\n",
    "\n",
    "        for i in range(len(self.game.show_results())):\n",
    "            row = self.game.show_results().iloc[i]\n",
    "            row_counts = row.value_counts()\n",
    "            faces.append(row_counts)\n",
    "\n",
    "        rslt = pd.DataFrame(faces).fillna(0).astype(int)\n",
    "        rslt.index = self.game.show_results().index\n",
    "        \n",
    "        return rslt\n",
    "\n",
    "    \n",
    "    \n",
    "    def combo_count(self):\n",
    "       \n",
    "        combos = []\n",
    "\n",
    "        for i in range(len(self.game.show_results())):\n",
    "            row = tuple(sorted(self.game.show_results().iloc[i]))\n",
    "            combos.append(row)\n",
    "\n",
    "        combo_s = pd.Series(combos)\n",
    "        combo_counts = combo_s.value_counts().to_frame(name='count')\n",
    "        combo_counts.index.name = 'combo'\n",
    "        \n",
    "\n",
    "        return combo_counts\n",
    "    \n",
    "    \n",
    "    \n",
    "    def permutation_count(self):\n",
    "        \n",
    "        rslt = self.game.show_results()\n",
    "        perms = []\n",
    "        \n",
    "        for i in range(len(rslt)):\n",
    "            row = tuple(rslt.iloc[i])    \n",
    "            perms.append(row)\n",
    "        \n",
    "        \n",
    "        perm_s = pd.Series(perms)\n",
    "        perm_counts = perm_s.value_counts().to_frame(name='count')\n",
    "        \n",
    "        \n",
    "        perm_counts.index.name = 'perm'\n",
    "        \n",
    "        return perm_counts\n",
    "        \n",
    "```\n",
    "        "
   ]
  },
  {
   "cell_type": "markdown",
   "id": "6377727a-8f0a-491e-9f1c-d9dc225edd35",
   "metadata": {},
   "source": [
    "## Unitest Module (2)\n",
    "\n",
    "Paste a copy of your test module below.\n",
    "\n",
    "NOTE: Paste as text, not as code. Use triple backticks to wrap your code blocks.\n",
    "\n",
    "- All methods have at least one test method (1).\n",
    "- Each method employs one of Unittest's Assert methods (1)."
   ]
  },
  {
   "cell_type": "markdown",
   "id": "a0ba2584-e5bb-4a64-8f81-fe9d20e9fc48",
   "metadata": {},
   "source": [
    "```\n",
    "import unittest\n",
    "import pandas as pd\n",
    "import numpy as np\n",
    "from montecarlo import Dice\n",
    "from montecarlo import Game\n",
    "from montecarlo import Analyzer\n",
    "\n",
    "class MonteCarloTestSuite(unittest.TestCase):\n",
    "    \n",
    "    def test_1_dice_instance(self): \n",
    "        #ensure faces attriubute of die object is proper data structure. \n",
    "        array1 = np.array([34, 23, 45])\n",
    "        die = Dice(array1)\n",
    "        self.assertTrue(type(die.faces) == np.ndarray) \n",
    "        \n",
    "\n",
    "    def test_2_dice_change_weights(self):\n",
    "        # test if change weights changes the weight of the correct face and is correct data structure. \n",
    "        array1 = np.array([34, 23, 45])\n",
    "        die = Dice(array1)\n",
    "        die.change_weight(34, 4)\n",
    "        expected = 4\n",
    "        actual = die.weights[0]\n",
    "        self.assertTrue(type(die.weights) == np.ndarray and expected == actual ) \n",
    "       \n",
    "                \n",
    "    def test_3_roll_dice(self): \n",
    "        # test if roll dice return list object.\n",
    "        array1 = np.array([34, 23, 45])\n",
    "        die = Dice(array1)\n",
    "        rslt = die.roll_dice(5)\n",
    "        self.assertTrue(isinstance(rslt, list)) \n",
    "        \n",
    "            \n",
    "    def test_4_dice_current_state(self): \n",
    "       # test if current state returns pandas dataframe.\n",
    "        array1 = np.array([34, 23, 45])\n",
    "        die = Dice(array1)\n",
    "        rslt = die.current_state()\n",
    "        self.assertTrue(isinstance(rslt, pd.DataFrame)) \n",
    "        \n",
    "        \n",
    "    def test_5_game_instance(self): \n",
    "       # test that the game instance has a list of die objects\n",
    "        array1 = np.array([1,2,3,4,5,6])\n",
    "        array2 = np.array([1,2,3,4,5,6])\n",
    "        die1 = Dice(array1)\n",
    "        die2 = Dice(array2)\n",
    "        \n",
    "        game = Game([die1, die2])\n",
    "        expected = 2\n",
    "        actual = len(game.die) \n",
    "        self.assertTrue(isinstance(game.die, list) and expected == actual) \n",
    "        \n",
    "        \n",
    "    def test_6_game_plays(self):\n",
    "        #test that game plays function returns a pandas dataframe.\n",
    "        array1 = np.array([1,2,3,4,5,6])\n",
    "        array2 = np.array([1,2,3,4,5,6])\n",
    "        die1 = Dice(array1)\n",
    "        die2 = Dice(array2)\n",
    "        \n",
    "        game = Game([die1, die2])\n",
    "        game.play(4)\n",
    "       \n",
    "        self.assertTrue(isinstance(game.plays, pd.DataFrame)) \n",
    "        \n",
    "        \n",
    "    def test_7_game_show_results(self):\n",
    "        #test that game show results function returns a pandas dataframe.\n",
    "        array1 = np.array([1,2,3,4,5,6])\n",
    "        array2 = np.array([1,2,3,4,5,6])\n",
    "        die1 = Dice(array1)\n",
    "        die2 = Dice(array2)\n",
    "        \n",
    "        game = Game([die1, die2])\n",
    "        game.play(4)\n",
    "\n",
    "        \n",
    "        rslt = game.show_results()\n",
    "       \n",
    "        self.assertTrue(isinstance(rslt, pd.DataFrame)) \n",
    "        \n",
    "        \n",
    "        \n",
    "    def test_8_analyzer_instance(self): \n",
    "        #test that the analzer object was instantiated with a game object as the argument.\n",
    "        array1 = np.array([1,2,3,4,5,6])\n",
    "        array2 = np.array([1,2,3,4,5,6])\n",
    "        die1 = Dice(array1)\n",
    "        die2 = Dice(array2)\n",
    "        \n",
    "        game = Game([die1, die2])\n",
    "        game.play(4)\n",
    "        \n",
    "        ana = Analyzer(game)\n",
    "        \n",
    "        \n",
    "        self.assertTrue(isinstance(ana.game, Game)) \n",
    "        \n",
    "        \n",
    "    \n",
    "    def test_9_analyzer_jackpot(self):\n",
    "        # test that the jackpot function returns an int. \n",
    "        array1 = np.array([1,2,3,4,5,6])\n",
    "        array2 = np.array([1,2,3,4,5,6])\n",
    "        die1 = Dice(array1)\n",
    "        die2 = Dice(array2)\n",
    "        \n",
    "        game = Game([die1, die2])\n",
    "        game.play(4)\n",
    "\n",
    "        ana = Analyzer(game)\n",
    "        \n",
    "        self.assertTrue(type(ana.jackpot()) == int)\n",
    "        \n",
    "        \n",
    "        \n",
    "    def test_10_analyzer_face_counts(self):\n",
    "        #test that the face_counts function returns a pandas dataframe. \n",
    "        array1 = np.array([1,2,3,4,5,6])\n",
    "        array2 = np.array([1,2,3,4,5,6])\n",
    "        die1 = Dice(array1)\n",
    "        die2 = Dice(array2)\n",
    "        \n",
    "        game = Game([die1, die2])\n",
    "        game.play(4)\n",
    "\n",
    "        \n",
    "        ana = Analyzer(game)\n",
    "        \n",
    "        self.assertTrue(type(ana.face_counts()) == pd.DataFrame)\n",
    "        \n",
    "        \n",
    "        \n",
    "    def test_11_analyzer_combo_count(self):\n",
    "        #test that the combo_count function returns a pandas dataframe. \n",
    "        array1 = np.array([1,2,3,4,5,6])\n",
    "        array2 = np.array([1,2,3,4,5,6])\n",
    "        die1 = Dice(array1)\n",
    "        die2 = Dice(array2)\n",
    "        \n",
    "        game = Game([die1, die2])\n",
    "        game.play(4)\n",
    "\n",
    "        ana = Analyzer(game)\n",
    "        \n",
    "        self.assertTrue(type(ana.combo_count()) == pd.DataFrame)\n",
    "        \n",
    "        \n",
    "        \n",
    "        \n",
    "    def test_12_analyzer_permutation_count(self):\n",
    "        #test that the permutation_count function returns a pandas dataframe. \n",
    "        array1 = np.array([1,2,3,4,5,6])\n",
    "        array2 = np.array([1,2,3,4,5,6])\n",
    "        die1 = Dice(array1)\n",
    "        die2 = Dice(array2)\n",
    "        \n",
    "        game = Game([die1, die2])\n",
    "        game.play(4)\n",
    "        \n",
    "        ana = Analyzer(game)\n",
    "        \n",
    "        self.assertTrue(type(ana.permutation_count()) == pd.DataFrame)\n",
    "\n",
    "        \n",
    "                \n",
    "if __name__ == '__main__':\n",
    "    \n",
    "    unittest.main(verbosity=3)\n",
    "    \n",
    "```"
   ]
  },
  {
   "cell_type": "markdown",
   "id": "3e058d03-29bc-408f-b36d-0605b4f4b8c0",
   "metadata": {
    "tags": []
   },
   "source": [
    "## Unittest Results (3)\n",
    "\n",
    "Put a copy of the results of running your tests from the command line here.\n",
    "\n",
    "Again, paste as text using triple backticks.\n",
    "\n",
    "- All 12 specified methods return OK (3; .25 each)."
   ]
  },
  {
   "cell_type": "markdown",
   "id": "c4518615-95c0-4737-868f-35f7c1426afd",
   "metadata": {
    "tags": []
   },
   "source": [
    "```\n",
    "\n",
    "\n",
    "-bash-4.4$python3 montecarlotest.py \n",
    "test_10_analyzer_face_counts (__main__.MonteCarloTestSuite) ... ok\n",
    "test_11_analyzer_combo_count (__main__.MonteCarloTestSuite) ... ok\n",
    "test_12_analyzer_permutation_count (__main__.MonteCarloTestSuite) ... ok\n",
    "test_1_dice_instance (__main__.MonteCarloTestSuite) ... ok\n",
    "test_2_dice_change_weights (__main__.MonteCarloTestSuite) ... ok\n",
    "test_3_roll_dice (__main__.MonteCarloTestSuite) ... ok\n",
    "test_4_dice_current_state (__main__.MonteCarloTestSuite) ... ok\n",
    "test_5_game_instance (__main__.MonteCarloTestSuite) ... ok\n",
    "test_6_game_plays (__main__.MonteCarloTestSuite) ... ok\n",
    "test_7_game_show_results (__main__.MonteCarloTestSuite) ... ok\n",
    "test_8_analyzer_instance (__main__.MonteCarloTestSuite) ... ok\n",
    "test_9_analyzer_jackpot (__main__.MonteCarloTestSuite) ... ok\n",
    "----------------------------------------------------------------------\n",
    "Ran 12 tests in 0.085s\n",
    "OK\n",
    "-bash-4.4$\n",
    "\n",
    "\n",
    "```"
   ]
  },
  {
   "cell_type": "markdown",
   "id": "d9ffe8c5-eb2f-4ad1-af76-a46550e4c7ac",
   "metadata": {},
   "source": [
    "## Import (1)\n",
    "\n",
    "Import your module here. This import should refer to the code in your package directory.\n",
    "\n",
    "- Module successuflly imported (1)."
   ]
  },
  {
   "cell_type": "code",
   "execution_count": 4,
   "id": "40861d6c-551f-433a-83b1-cd1851a7d366",
   "metadata": {
    "tags": []
   },
   "outputs": [],
   "source": [
    "import montecarlo.montecarlo"
   ]
  },
  {
   "cell_type": "markdown",
   "id": "f30c4842-65b1-4556-98b6-3fe1a07e1371",
   "metadata": {},
   "source": [
    "## Help Docs (4)\n",
    "\n",
    "Show your docstring documentation by applying `help()` to your imported module.\n",
    "\n",
    "- All methods have a docstring (3; .25 each).\n",
    "- All classes have a docstring (1; .33 each)."
   ]
  },
  {
   "cell_type": "code",
   "execution_count": 2,
   "id": "fe67cac3-48c2-4710-b28d-d16b2047df6c",
   "metadata": {},
   "outputs": [
    {
     "name": "stdout",
     "output_type": "stream",
     "text": [
      "Help on module montecarlo.montecarlo in montecarlo:\n",
      "\n",
      "NAME\n",
      "    montecarlo.montecarlo\n",
      "\n",
      "CLASSES\n",
      "    builtins.object\n",
      "        Analyzer\n",
      "        Dice\n",
      "        Game\n",
      "    \n",
      "    class Analyzer(builtins.object)\n",
      "     |  Analyzer(game)\n",
      "     |  \n",
      "     |  Methods defined here:\n",
      "     |  \n",
      "     |  __init__(self, game)\n",
      "     |      Initialize self.  See help(type(self)) for accurate signature.\n",
      "     |  \n",
      "     |  combo_count(self)\n",
      "     |  \n",
      "     |  face_counts(self)\n",
      "     |  \n",
      "     |  jackpot(self)\n",
      "     |  \n",
      "     |  permutation_count(self)\n",
      "     |  \n",
      "     |  ----------------------------------------------------------------------\n",
      "     |  Data descriptors defined here:\n",
      "     |  \n",
      "     |  __dict__\n",
      "     |      dictionary for instance variables (if defined)\n",
      "     |  \n",
      "     |  __weakref__\n",
      "     |      list of weak references to the object (if defined)\n",
      "    \n",
      "    class Dice(builtins.object)\n",
      "     |  Dice(faces: <built-in function array>)\n",
      "     |  \n",
      "     |  This is the Dice Class. \n",
      "     |  A die has N sides, or “faces”, and W weights, and can be rolled to select a face.\n",
      "     |  For example, a “die” with  𝑁=2 is a coin, and a one with  𝑁=6 is a standard die.\n",
      "     |  Normally, dice and coins are “fair,” meaning that the each side has an equal weight. \n",
      "     |  An unfair die is one where the weights are unequal.\n",
      "     |  Each side contains a unique symbol. Symbols may be all alphabetic or all numeric.\n",
      "     |  𝑊 defaults to  1.0 for each face but can be changed after the object is created.\n",
      "     |  The weights are just positive numbers (integers or floats, including  0), not a \n",
      "     |  normalized probability distribution.\n",
      "     |  The die has one behavior, which is to be rolled one or more times.\n",
      "     |  \n",
      "     |  PURPOSE: Given a list of values, compare each value against a threshold\n",
      "     |  \n",
      "     |  INPUTS\n",
      "     |  faces    numpy array of values to represent the N faces of a die\n",
      "     |  \n",
      "     |  Methods defined here:\n",
      "     |  \n",
      "     |  __init__(self, faces: <built-in function array>)\n",
      "     |      Initialize self.  See help(type(self)) for accurate signature.\n",
      "     |  \n",
      "     |  change_weight(self, face, new_weight)\n",
      "     |  \n",
      "     |  current_state(self)\n",
      "     |  \n",
      "     |  roll_dice(self, rolls=1)\n",
      "     |  \n",
      "     |  ----------------------------------------------------------------------\n",
      "     |  Data descriptors defined here:\n",
      "     |  \n",
      "     |  __dict__\n",
      "     |      dictionary for instance variables (if defined)\n",
      "     |  \n",
      "     |  __weakref__\n",
      "     |      list of weak references to the object (if defined)\n",
      "    \n",
      "    class Game(builtins.object)\n",
      "     |  Game(die: list)\n",
      "     |  \n",
      "     |  A game consists of rolling of one or more similar dice (Die objects) one or more times.\n",
      "     |  \n",
      "     |  By similar dice, we mean that each die in a given game has the same number of sides and associated faces, but \n",
      "     |  each die object may have its own weights.\n",
      "     |  \n",
      "     |  Each game is initialized with a Python list that contains one or more dice.\n",
      "     |  \n",
      "     |  Game objects have a behavior to play a game, i.e. to roll all of the dice a given number of times.\n",
      "     |  \n",
      "     |  Game objects only keep the results of their most recent play.\n",
      "     |  \n",
      "     |  PURPOSE: Given a list of values, compare each value against a threshold\n",
      "     |  \n",
      "     |  INPUTS\n",
      "     |  faces    numpy array of values to represent the N faces of a die\n",
      "     |  \n",
      "     |  Methods defined here:\n",
      "     |  \n",
      "     |  __init__(self, die: list)\n",
      "     |      Initialize self.  See help(type(self)) for accurate signature.\n",
      "     |  \n",
      "     |  play(self, num_rolls: int)\n",
      "     |  \n",
      "     |  show_results(self, form='wide')\n",
      "     |  \n",
      "     |  ----------------------------------------------------------------------\n",
      "     |  Data descriptors defined here:\n",
      "     |  \n",
      "     |  __dict__\n",
      "     |      dictionary for instance variables (if defined)\n",
      "     |  \n",
      "     |  __weakref__\n",
      "     |      list of weak references to the object (if defined)\n",
      "\n",
      "FILE\n",
      "    /sfs/gpfs/tardis/home/mfu2as/Documents/MSDS/DS5100/DS5100_Project/montecarlo/montecarlo.py\n",
      "\n",
      "\n"
     ]
    }
   ],
   "source": [
    "help(montecarlo.montecarlo)"
   ]
  },
  {
   "cell_type": "markdown",
   "id": "a9defa84-b395-4966-bd1c-5c6c2bb7ed68",
   "metadata": {},
   "source": [
    "## `README.md` File (3)\n",
    "\n",
    "Provide link to the README.md file of your project's repo.\n",
    "\n",
    "- Metadata section or info present (1).\n",
    "- Synopsis section showing how each class is called (1). (All must be included.)\n",
    "- API section listing all classes and methods (1). (All must be included.)"
   ]
  },
  {
   "cell_type": "markdown",
   "id": "ee090b33-d593-48a0-bf35-e739cea0942c",
   "metadata": {},
   "source": [
    "URL:"
   ]
  },
  {
   "cell_type": "markdown",
   "id": "108604c8-8827-42ef-ab59-6b25428fc0ca",
   "metadata": {},
   "source": [
    "## Successful installation (2)\n",
    "\n",
    "Put a screenshot or paste a copy of a terminal session where you successfully install your module with pip.\n",
    "\n",
    "If pasting text, use a preformatted text block to show the results.\n",
    "\n",
    "- Installed with `pip` (1).\n",
    "- Successfully installed message appears (1)."
   ]
  },
  {
   "cell_type": "raw",
   "id": "1278db6a-aa53-4e5c-a749-93a87ab239e0",
   "metadata": {},
   "source": [
    "```\n",
    "-bash-4.4$pip install -e .\n",
    "Defaulting to user installation because normal site-packages is not writeable\n",
    "Obtaining file:///sfs/gpfs/tardis/home/mfu2as/Documents/MSDS/DS5100/DS5100_Project\n",
    "  Preparing metadata (setup.py) ... done\n",
    "Installing collected packages: montecarlo\n",
    "  Running setup.py develop for montecarlo\n",
    "Successfully installed montecarlo-0.1\n",
    "-bash-4.4$\n",
    "\n",
    "```"
   ]
  },
  {
   "cell_type": "markdown",
   "id": "7c44695d-d1b3-4edf-9f94-e64d7446f199",
   "metadata": {},
   "source": [
    "# Scenarios\n",
    "\n",
    "Use code blocks to perform the tasks for each scenario.\n",
    "\n",
    "Be sure the outputs are visible before submitting."
   ]
  },
  {
   "cell_type": "markdown",
   "id": "e2479eae-6fc9-44cd-b8d7-9b22cb501f2a",
   "metadata": {
    "tags": []
   },
   "source": [
    "## Scenario 1: A 2-headed Coin (9)\n",
    "\n",
    "Task 1. Create a fair coin (with faces $H$ and $T$) and one unfair coin in which one of the faces has a weight of $5$ and the others $1$.\n",
    "\n",
    "- Fair coin created (1).\n",
    "- Unfair coin created with weight as specified (1)."
   ]
  },
  {
   "cell_type": "code",
   "execution_count": 6,
   "id": "550b66c9-285d-400c-879f-9bd4e43d3b50",
   "metadata": {
    "tags": []
   },
   "outputs": [],
   "source": [
    "import numpy as np\n",
    "import pandas as pd\n",
    "from montecarlo.montecarlo import Dice\n",
    "from montecarlo.montecarlo import Game\n",
    "from montecarlo.montecarlo import Analyzer\n"
   ]
  },
  {
   "cell_type": "code",
   "execution_count": 4,
   "id": "55ce498e-c75f-4425-9e3e-b635bd6cd9e1",
   "metadata": {},
   "outputs": [],
   "source": [
    "Fair = Dice(np.array([\"H\", \"T\"]))\n",
    "\n",
    "Unfair =  Dice(np.array([\"H\", \"T\"]))\n",
    "Unfair.change_weight(\"H\", 5) "
   ]
  },
  {
   "cell_type": "code",
   "execution_count": 5,
   "id": "d138ed3f-fb7d-44ce-953a-0b033d189843",
   "metadata": {
    "tags": []
   },
   "outputs": [
    {
     "data": {
      "text/plain": [
       "array([5., 1.])"
      ]
     },
     "execution_count": 5,
     "metadata": {},
     "output_type": "execute_result"
    }
   ],
   "source": [
    "Unfair.weights"
   ]
  },
  {
   "cell_type": "markdown",
   "id": "02b272ab-99da-4b6e-ac2a-555b73e09c07",
   "metadata": {},
   "source": [
    "Task 2. Play a game of $1000$ flips with two fair dice.\n",
    "\n",
    "- Play method called correclty and without error (1)."
   ]
  },
  {
   "cell_type": "code",
   "execution_count": 6,
   "id": "65c92601-d32d-4326-b215-74953aee27f2",
   "metadata": {},
   "outputs": [
    {
     "data": {
      "text/html": [
       "<div>\n",
       "<style scoped>\n",
       "    .dataframe tbody tr th:only-of-type {\n",
       "        vertical-align: middle;\n",
       "    }\n",
       "\n",
       "    .dataframe tbody tr th {\n",
       "        vertical-align: top;\n",
       "    }\n",
       "\n",
       "    .dataframe thead th {\n",
       "        text-align: right;\n",
       "    }\n",
       "</style>\n",
       "<table border=\"1\" class=\"dataframe\">\n",
       "  <thead>\n",
       "    <tr style=\"text-align: right;\">\n",
       "      <th></th>\n",
       "      <th>0</th>\n",
       "      <th>1</th>\n",
       "    </tr>\n",
       "    <tr>\n",
       "      <th>Roll Number</th>\n",
       "      <th></th>\n",
       "      <th></th>\n",
       "    </tr>\n",
       "  </thead>\n",
       "  <tbody>\n",
       "    <tr>\n",
       "      <th>0</th>\n",
       "      <td>T</td>\n",
       "      <td>T</td>\n",
       "    </tr>\n",
       "    <tr>\n",
       "      <th>1</th>\n",
       "      <td>T</td>\n",
       "      <td>H</td>\n",
       "    </tr>\n",
       "    <tr>\n",
       "      <th>2</th>\n",
       "      <td>H</td>\n",
       "      <td>T</td>\n",
       "    </tr>\n",
       "    <tr>\n",
       "      <th>3</th>\n",
       "      <td>H</td>\n",
       "      <td>T</td>\n",
       "    </tr>\n",
       "    <tr>\n",
       "      <th>4</th>\n",
       "      <td>H</td>\n",
       "      <td>T</td>\n",
       "    </tr>\n",
       "    <tr>\n",
       "      <th>5</th>\n",
       "      <td>H</td>\n",
       "      <td>H</td>\n",
       "    </tr>\n",
       "  </tbody>\n",
       "</table>\n",
       "</div>"
      ],
      "text/plain": [
       "             0  1\n",
       "Roll Number      \n",
       "0            T  T\n",
       "1            T  H\n",
       "2            H  T\n",
       "3            H  T\n",
       "4            H  T\n",
       "5            H  H"
      ]
     },
     "execution_count": 6,
     "metadata": {},
     "output_type": "execute_result"
    }
   ],
   "source": [
    "Game1 = Game([Fair, Fair]) \n",
    "\n",
    "Game1.play(1000)\n",
    "\n",
    "Game1.show_results().head(6)"
   ]
  },
  {
   "cell_type": "markdown",
   "id": "7d9c3dc8-22c1-4cae-81fb-d68d774a05d1",
   "metadata": {},
   "source": [
    "Task 3. Play another game (using a new Game object) of $1000$ flips, this time using two unfair dice and one fair die. For the second unfair die, you can use the same die object twice in the list of dice you pass to the Game object.\n",
    "\n",
    "- New game object created (1).\n",
    "- Play method called correclty and without error (1)."
   ]
  },
  {
   "cell_type": "code",
   "execution_count": 9,
   "id": "d4098bed-1eb2-4084-8d5e-9fda07c3be43",
   "metadata": {},
   "outputs": [
    {
     "data": {
      "text/html": [
       "<div>\n",
       "<style scoped>\n",
       "    .dataframe tbody tr th:only-of-type {\n",
       "        vertical-align: middle;\n",
       "    }\n",
       "\n",
       "    .dataframe tbody tr th {\n",
       "        vertical-align: top;\n",
       "    }\n",
       "\n",
       "    .dataframe thead th {\n",
       "        text-align: right;\n",
       "    }\n",
       "</style>\n",
       "<table border=\"1\" class=\"dataframe\">\n",
       "  <thead>\n",
       "    <tr style=\"text-align: right;\">\n",
       "      <th></th>\n",
       "      <th>0</th>\n",
       "      <th>1</th>\n",
       "      <th>2</th>\n",
       "    </tr>\n",
       "    <tr>\n",
       "      <th>Roll Number</th>\n",
       "      <th></th>\n",
       "      <th></th>\n",
       "      <th></th>\n",
       "    </tr>\n",
       "  </thead>\n",
       "  <tbody>\n",
       "    <tr>\n",
       "      <th>0</th>\n",
       "      <td>H</td>\n",
       "      <td>H</td>\n",
       "      <td>H</td>\n",
       "    </tr>\n",
       "    <tr>\n",
       "      <th>1</th>\n",
       "      <td>T</td>\n",
       "      <td>H</td>\n",
       "      <td>H</td>\n",
       "    </tr>\n",
       "    <tr>\n",
       "      <th>2</th>\n",
       "      <td>T</td>\n",
       "      <td>H</td>\n",
       "      <td>H</td>\n",
       "    </tr>\n",
       "    <tr>\n",
       "      <th>3</th>\n",
       "      <td>H</td>\n",
       "      <td>H</td>\n",
       "      <td>H</td>\n",
       "    </tr>\n",
       "    <tr>\n",
       "      <th>4</th>\n",
       "      <td>T</td>\n",
       "      <td>T</td>\n",
       "      <td>H</td>\n",
       "    </tr>\n",
       "    <tr>\n",
       "      <th>5</th>\n",
       "      <td>T</td>\n",
       "      <td>H</td>\n",
       "      <td>H</td>\n",
       "    </tr>\n",
       "  </tbody>\n",
       "</table>\n",
       "</div>"
      ],
      "text/plain": [
       "             0  1  2\n",
       "Roll Number         \n",
       "0            H  H  H\n",
       "1            T  H  H\n",
       "2            T  H  H\n",
       "3            H  H  H\n",
       "4            T  T  H\n",
       "5            T  H  H"
      ]
     },
     "execution_count": 9,
     "metadata": {},
     "output_type": "execute_result"
    }
   ],
   "source": [
    "Game2 = Game([Fair, Unfair, Unfair]) \n",
    "\n",
    "Game2.play(1000)\n",
    "\n",
    "Game2.show_results().head(6)"
   ]
  },
  {
   "cell_type": "markdown",
   "id": "f690ebfc-fe71-4eb2-976d-7ac80ca6c23f",
   "metadata": {},
   "source": [
    "Task 4. For each game, use an Analyzer object to determine the raw frequency of jackpots — i.e. getting either all $H$s or all $T$s.\n",
    "\n",
    "- Analyzer objecs instantiated for both games (1).\n",
    "- Raw frequencies reported for both (1)."
   ]
  },
  {
   "cell_type": "code",
   "execution_count": 10,
   "id": "b26b8b7e-3be7-4476-a9a4-37d97536729e",
   "metadata": {},
   "outputs": [
    {
     "name": "stdout",
     "output_type": "stream",
     "text": [
      " Game 1 had 492 jackpots and Game 2 had 361 jackpots.\n"
     ]
    }
   ],
   "source": [
    "Analyzer1 = Analyzer(Game1)\n",
    "Analyzer2 = Analyzer(Game2)\n",
    "\n",
    "\n",
    "\n",
    "print(f' Game 1 had {Analyzer1.jackpot()} jackpots and Game 2 had { Analyzer2.jackpot()} jackpots.')"
   ]
  },
  {
   "cell_type": "markdown",
   "id": "b73d233c-445e-40cd-8858-0c5e1f097105",
   "metadata": {},
   "source": [
    "Task 5. For each analyzer, compute relative frequency as the number of jackpots over the total number of rolls.\n",
    "\n",
    "- Both relative frequencies computed (1)."
   ]
  },
  {
   "cell_type": "code",
   "execution_count": 18,
   "id": "9a96b31b-1b9d-496e-be3e-4bf83c45ec3a",
   "metadata": {},
   "outputs": [
    {
     "name": "stdout",
     "output_type": "stream",
     "text": [
      "0.492 0.361\n"
     ]
    }
   ],
   "source": [
    "print(Analyzer1.jackpot() / Analyzer1.game.show_results().shape[0], \n",
    "      Analyzer2.jackpot() / Analyzer2.game.show_results().shape[0])"
   ]
  },
  {
   "cell_type": "markdown",
   "id": "a6e1e734-7f5c-4721-8ba4-2f3a424cf984",
   "metadata": {},
   "source": [
    "Task 6. Show your results, comparing the two relative frequencies, in a simple bar chart.\n",
    "\n",
    "- Bar chart plotted and correct (1)."
   ]
  },
  {
   "cell_type": "markdown",
   "id": "725cfa5b-e4b7-47c9-86aa-8d9e1fe6c8c7",
   "metadata": {},
   "source": [
    "## Scenario 2: A 6-sided Die (9)\n",
    "\n",
    "Task 1. Create three dice, each with six sides having the faces 1 through 6.\n",
    "\n",
    "- Three die objects created (1)."
   ]
  },
  {
   "cell_type": "code",
   "execution_count": 7,
   "id": "6a8bc611-325a-4e05-88d5-980e0a2cf7c5",
   "metadata": {},
   "outputs": [],
   "source": [
    "Die1 = Dice(np.array([1,2,3,4,5,6]))\n",
    "Die2 = Dice(np.array([1,2,3,4,5,6]))\n",
    "Die3 = Dice(np.array([1,2,3,4,5,6]))"
   ]
  },
  {
   "cell_type": "markdown",
   "id": "2ed3ad26-fbe9-43bd-9ad7-f683a4191d12",
   "metadata": {},
   "source": [
    "Task 2. Convert one of the dice to an unfair one by weighting the face $6$ five times more than the other weights (i.e. it has weight of 5 and the others a weight of 1 each).\n",
    "\n",
    "- Unfair die created with proper call to weight change method (1)."
   ]
  },
  {
   "cell_type": "code",
   "execution_count": 9,
   "id": "e33dd18f-7f90-456d-a680-61c08a328e21",
   "metadata": {},
   "outputs": [
    {
     "data": {
      "text/plain": [
       "array([1., 1., 1., 1., 1., 5.])"
      ]
     },
     "execution_count": 9,
     "metadata": {},
     "output_type": "execute_result"
    }
   ],
   "source": [
    "Die3.change_weight(6, 5)\n",
    "Die3.weights"
   ]
  },
  {
   "cell_type": "markdown",
   "id": "7f6c062a-4c5b-45b9-96b8-76a0354c7e47",
   "metadata": {},
   "source": [
    "Task 3. Convert another of the dice to be unfair by weighting the face $1$ five times more than the others.\n",
    "\n",
    "- Unfair die created with proper call to weight change method (1)."
   ]
  },
  {
   "cell_type": "code",
   "execution_count": 12,
   "id": "01133a4e-6b06-4246-8d90-8e6d6995be51",
   "metadata": {},
   "outputs": [
    {
     "data": {
      "text/plain": [
       "array([5., 1., 1., 1., 1., 1.])"
      ]
     },
     "execution_count": 12,
     "metadata": {},
     "output_type": "execute_result"
    }
   ],
   "source": [
    "Die1.change_weight(1, 5)\n",
    "Die1.weights"
   ]
  },
  {
   "cell_type": "markdown",
   "id": "f0ed31cb-0a3c-4eb2-b85e-6ed6b2eb6e58",
   "metadata": {},
   "source": [
    "Task 4. Play a game of $10000$ rolls with $5$ fair dice.\n",
    "\n",
    "- Game class properly instantiated (1). \n",
    "- Play method called properly (1)."
   ]
  },
  {
   "cell_type": "code",
   "execution_count": 13,
   "id": "e92395a4-9ed8-4cb0-8c85-38768a784ffc",
   "metadata": {},
   "outputs": [],
   "source": [
    "Game3 = Game([Die2, Die2,Die2,Die2,Die2]) \n",
    "Game3.play(10000)"
   ]
  },
  {
   "cell_type": "markdown",
   "id": "7814b402-46a4-40e5-8141-20e05c3e646b",
   "metadata": {},
   "source": [
    "Task 5. Play another game of $10000$ rolls, this time with $2$ unfair dice, one as defined in steps #2 and #3 respectively, and $3$ fair dice.\n",
    "\n",
    "- Game class properly instantiated (1). \n",
    "- Play method called properly (1)."
   ]
  },
  {
   "cell_type": "code",
   "execution_count": 14,
   "id": "7cd58fba-b2a5-4d5d-bc6d-2a7a68d18c4f",
   "metadata": {},
   "outputs": [],
   "source": [
    "Game4 = Game([Die1, Die2,Die3,Die2,Die2]) \n",
    "Game4.play(10000)"
   ]
  },
  {
   "cell_type": "markdown",
   "id": "7b6cd372-2bb8-4df8-ade1-8f48bc300955",
   "metadata": {},
   "source": [
    "Task 6. For each game, use an Analyzer object to determine the relative frequency of jackpots and show your results, comparing the two relative frequencies, in a simple bar chart.\n",
    "\n",
    "- Jackpot methods called (1).\n",
    "- Graph produced (1)."
   ]
  },
  {
   "cell_type": "code",
   "execution_count": 20,
   "id": "bbdcf695-8937-406e-9b53-aa0b9ee3c59a",
   "metadata": {},
   "outputs": [
    {
     "name": "stdout",
     "output_type": "stream",
     "text": [
      "0.0008 0.0005\n"
     ]
    }
   ],
   "source": [
    "Analyzer3 = Analyzer(Game3)\n",
    "Analyzer4 = Analyzer(Game4)\n",
    "\n",
    "\n",
    "\n",
    "print (Analyzer3.jackpot() / 10000,\n",
    "      Analyzer4.jackpot() / 10000)"
   ]
  },
  {
   "cell_type": "markdown",
   "id": "9f04e9be-8fcf-4ea4-a391-6614608285f8",
   "metadata": {},
   "source": [
    "## Scenario 3: Letters of the Alphabet (7)\n",
    "\n",
    "Task 1. Create a \"die\" of letters from $A$ to $Z$ with weights based on their frequency of usage as found in the data file `english_letters.txt`. Use the frequencies (i.e. raw counts) as weights.\n",
    "\n",
    "- Die correctly instantiated with source file data (1).\n",
    "- Weights properly applied using weight setting method (1)."
   ]
  },
  {
   "cell_type": "code",
   "execution_count": 29,
   "id": "b0ceb771-3cdf-4d8f-8c2c-020806bbb909",
   "metadata": {},
   "outputs": [
    {
     "data": {
      "text/plain": [
       "(26, 2)"
      ]
     },
     "execution_count": 29,
     "metadata": {},
     "output_type": "execute_result"
    }
   ],
   "source": [
    "alpha = pd.read_csv(\"english_letters.txt\", header = None, delimiter = \" \")"
   ]
  },
  {
   "cell_type": "markdown",
   "id": "88e2e14a-6223-470a-a2c8-bca1120d7a5b",
   "metadata": {},
   "source": [
    "Task 2. Play a game involving $4$ of these dice with $1000$ rolls.\n",
    "\n",
    "- Game play method properly called (1)."
   ]
  },
  {
   "cell_type": "code",
   "execution_count": 48,
   "id": "2ae087cc-936d-4f1e-bddb-a7c179d139e0",
   "metadata": {},
   "outputs": [],
   "source": [
    "Game5 = Game([alpha_die, alpha_die, alpha_die, alpha_die]) \n",
    "Game5.play(1000)"
   ]
  },
  {
   "cell_type": "markdown",
   "id": "3b9ff800-bf1f-4f66-9d7f-ff57a648e9f0",
   "metadata": {},
   "source": [
    "Task 3. Determine how many permutations in your results are actual English words, based on the vocabulary found in `scrabble_words.txt`.\n",
    "\n",
    "- Use permutation method (1).\n",
    "- Get count as difference between permutations and vocabulary (1)."
   ]
  },
  {
   "cell_type": "code",
   "execution_count": null,
   "id": "ed1c7fa0-cfa3-4cf4-9fd0-9f84b86b0f64",
   "metadata": {},
   "outputs": [],
   "source": []
  },
  {
   "cell_type": "markdown",
   "id": "fcf068cf-381a-4b3e-ac3a-0510eb4dbdb0",
   "metadata": {},
   "source": [
    "Task 4. Repeat steps #2 and #3, this time with $5$ dice. How many actual words does this produce? Which produces more?\n",
    "\n",
    "- Successfully repreats steps (1).\n",
    "- Identifies parameter with most found words (1)."
   ]
  }
 ],
 "metadata": {
  "kernelspec": {
   "display_name": "Python 3 (ipykernel)",
   "language": "python",
   "name": "python3"
  },
  "language_info": {
   "codemirror_mode": {
    "name": "ipython",
    "version": 3
   },
   "file_extension": ".py",
   "mimetype": "text/x-python",
   "name": "python",
   "nbconvert_exporter": "python",
   "pygments_lexer": "ipython3",
   "version": "3.11.4"
  },
  "toc-autonumbering": true,
  "widgets": {
   "application/vnd.jupyter.widget-state+json": {
    "state": {},
    "version_major": 2,
    "version_minor": 0
   }
  }
 },
 "nbformat": 4,
 "nbformat_minor": 5
}
